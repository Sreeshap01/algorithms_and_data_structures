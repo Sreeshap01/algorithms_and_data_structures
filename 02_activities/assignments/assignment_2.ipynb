{
 "cells": [
  {
   "cell_type": "markdown",
   "metadata": {},
   "source": [
    "# Practice Interview\n",
    "\n",
    "## Objective\n",
    "\n",
    "_*The partner assignment aims to provide participants with the opportunity to practice coding in an interview context. You will analyze your partner's Assignment 1. Moreover, code reviews are common practice in a software development team. This assignment should give you a taste of the code review process.*_\n",
    "\n",
    "## Group Size\n",
    "\n",
    "Each group should have 2 people. You will be assigned a partner\n",
    "\n",
    "## Part 1:\n",
    "\n",
    "You and your partner must share each other's Assignment 1 submission."
   ]
  },
  {
   "cell_type": "markdown",
   "metadata": {},
   "source": [
    "\n",
    "## Part 2:\n",
    "\n",
    "Create a Jupyter Notebook, create 6 of the following headings, and complete the following for your partner's assignment 1:\n",
    "\n",
    "-   Paraphrase the problem in your own words.\n"
   ]
  },
  {
   "cell_type": "markdown",
   "metadata": {},
   "source": [
    "\n",
    "The problem is find and return all the possible root to leaf paths of a binary tree in any order, when we are given all the elements of a tree.\n",
    "   The output should be a list which contains a sublist of all possible root to leaf paths.\n",
    "   "
   ]
  },
  {
   "cell_type": "markdown",
   "metadata": {},
   "source": [
    "\n",
    "-   Create 1 new example that demonstrates you understand the problem. Trace/walkthrough 1 example that your partner made and explain it.\n"
   ]
  },
  {
   "cell_type": "markdown",
   "metadata": {},
   "source": [
    "# New Example\n",
    "\n",
    "\n",
    "  Input: `root = [1,2,3,4,5,6]`\n",
    "\n",
    "  Output: [[1, 2, 4], [1, 2, 5], [1, 3, 6]]\n",
    "\n",
    "\n",
    "# Example  from partner\n",
    "Input: `root = [2,4,3,7,8,9,10]`\n",
    "output : [[2,3,7],[2,4,8],[2,3,9],[2,3,10]]\n",
    "\n",
    "The solution works because the output lists all root to leaf paths.2 is the root node.4 and 3 are its children. 7 and 8 are 4's children and 9 and 10 are 3's children.However there is a typo in the first sublist, it should be [2,4,7].\n",
    "\n",
    "  "
   ]
  },
  {
   "cell_type": "markdown",
   "metadata": {},
   "source": [
    "\n",
    "-   Copy the solution your partner wrote. \n"
   ]
  },
  {
   "cell_type": "code",
   "execution_count": 76,
   "metadata": {},
   "outputs": [],
   "source": [
    "class TreeNode(object):\n",
    "     def __init__(self, val = 0, left = None, right = None):\n",
    "         self.val = val\n",
    "         self.left = left\n",
    "         self.right = right\n",
    "\n",
    "def bt_path(root: TreeNode) -> list[list[int]]:\n",
    "        if not root:\n",
    "            return []\n",
    "\n",
    "# If it is a leaf node, return the current value as a single path        \n",
    "        if not root.left and not root.right:\n",
    "            return [[root.val]]\n",
    "\n",
    "# Create an empty list        \n",
    "        paths = []\n",
    "\n",
    "# Traverse the left subtree\n",
    "        if root.left:\n",
    "            left_paths = bt_path(root.left)\n",
    "            for path in left_paths:\n",
    "                paths.append([root.val] + path)\n",
    "\n",
    "# Traverse the right subtree\n",
    "        if root.right:\n",
    "            right_paths = bt_path(root.right)\n",
    "            for path in right_paths:\n",
    "                paths.append([root.val] + path)\n",
    "\n",
    "        return paths"
   ]
  },
  {
   "cell_type": "markdown",
   "metadata": {},
   "source": [
    "\n",
    "-   Explain why their solution works in your own words.\n"
   ]
  },
  {
   "cell_type": "markdown",
   "metadata": {},
   "source": [
    "\n",
    "The solution works because its checking each node, finding its value , searching the left tree, then the right tree and doing this recursively(DFS pre-order).\n",
    "The solution also handles the case when the root node is empty and when the left subtree or the subtree is empty.Also, it works for the examples given."
   ]
  },
  {
   "cell_type": "markdown",
   "metadata": {},
   "source": [
    "\n",
    "-   Explain the problem’s time and space complexity in your own words.\n"
   ]
  },
  {
   "cell_type": "markdown",
   "metadata": {},
   "source": [
    "Each node is visited once. Also there are two for loops which are o(n) and the remaining are constant times. So the overall time complexity is o(n).\n",
    "The space complexity is o(h)"
   ]
  },
  {
   "cell_type": "markdown",
   "metadata": {},
   "source": [
    "\n",
    "-   Critique your partner's solution, including explanation, and if there is anything that should be adjusted.\n"
   ]
  },
  {
   "cell_type": "markdown",
   "metadata": {},
   "source": [
    "\n",
    "The code is well-formatted, the comments are useful and handle the edge cases."
   ]
  },
  {
   "cell_type": "markdown",
   "metadata": {},
   "source": [
    "\n",
    "## Part 3:\n",
    "\n",
    "Please write a 200 word reflection documenting your process from assignment 1, and your presentation and review experience with your partner at the bottom of the Jupyter Notebook under a new heading \"Reflection.\" Again, export this Notebook as pdf.\n"
   ]
  },
  {
   "cell_type": "markdown",
   "metadata": {},
   "source": [
    "### Reflection"
   ]
  },
  {
   "cell_type": "markdown",
   "metadata": {},
   "source": [
    "The first assignment was to find a missing element from a range of numbers. The solving of the problem helped me to understand the difference in performance between diffrent data types such as list and set.\n",
    "I also used the timeit libraries and functions to time the function for different ranges. I tried the problem in a couple of ways, and analysed the time and space complexities by changing the data types, reducing the number of variables stored (eg: if a calcualtion result is used only once, just use te calculation directly as the input instead of storing it etc), and by running thr timeit functions on each solution.Overall the experience and the learning was quite good as it showed how important is each line of code and its implications in terms of time and space complexity.\n",
    "\n",
    "The problem to analyse from the partner was to find all root to leaf paths of a binary tree. It helped me to understand different traversal methods mmore closely such as DFS and BFS. It also strengthened the idea of recursion, analyzing the code line-by-line for space and time complexities, and the importance of handling all the edge cases. Finally it showed how important is to format and comment the code well, so another person can understand it well."
   ]
  },
  {
   "cell_type": "markdown",
   "metadata": {},
   "source": [
    "\n",
    "## Evaluation Criteria\n",
    "\n",
    "We are looking for the similar points as Assignment 1\n",
    "\n",
    "-   Problem is accurately stated\n",
    "\n",
    "-   New example is correct and easily understandable\n",
    "\n",
    "-   Correctness, time, and space complexity of the coding solution\n",
    "\n",
    "-   Clarity in explaining why the solution works, its time and space complexity\n",
    "\n",
    "-   Quality of critique of your partner's assignment, if necessary\n"
   ]
  },
  {
   "cell_type": "markdown",
   "metadata": {},
   "source": [
    "## Submission Information\n",
    "\n",
    "🚨 **Please review our [Assignment Submission Guide](https://github.com/UofT-DSI/onboarding/blob/main/onboarding_documents/submissions.md)** 🚨 for detailed instructions on how to format, branch, and submit your work. Following these guidelines is crucial for your submissions to be evaluated correctly.\n",
    "\n",
    "### Submission Parameters:\n",
    "* Submission Due Date: `HH:MM AM/PM - DD/MM/YYYY`\n",
    "* The branch name for your repo should be: `assignment-2`\n",
    "* What to submit for this assignment:\n",
    "    * This Jupyter Notebook (assignment_2.ipynb) should be populated and should be the only change in your pull request.\n",
    "* What the pull request link should look like for this assignment: `https://github.com/<your_github_username>/algorithms_and_data_structures/pull/<pr_id>`\n",
    "    * Open a private window in your browser. Copy and paste the link to your pull request into the address bar. Make sure you can see your pull request properly. This helps the technical facilitator and learning support staff review your submission easily.\n",
    "\n",
    "Checklist:\n",
    "- [ ] Created a branch with the correct naming convention.\n",
    "- [ ] Ensured that the repository is public.\n",
    "- [ ] Reviewed the PR description guidelines and adhered to them.\n",
    "- [ ] Verify that the link is accessible in a private browser window.\n",
    "\n",
    "If you encounter any difficulties or have questions, please don't hesitate to reach out to our team via our Slack at `#cohort-3-help`. Our Technical Facilitators and Learning Support staff are here to help you navigate any challenges.\n"
   ]
  }
 ],
 "metadata": {
  "kernelspec": {
   "display_name": "dsi_participant",
   "language": "python",
   "name": "python3"
  },
  "language_info": {
   "codemirror_mode": {
    "name": "ipython",
    "version": 3
   },
   "file_extension": ".py",
   "mimetype": "text/x-python",
   "name": "python",
   "nbconvert_exporter": "python",
   "pygments_lexer": "ipython3",
   "version": "3.9.15"
  }
 },
 "nbformat": 4,
 "nbformat_minor": 2
}
